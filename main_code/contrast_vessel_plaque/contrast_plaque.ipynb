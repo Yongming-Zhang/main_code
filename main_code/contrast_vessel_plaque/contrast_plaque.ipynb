{
 "cells": [
  {
   "cell_type": "code",
   "execution_count": 142,
   "metadata": {},
   "outputs": [
    {
     "name": "stdout",
     "output_type": "stream",
     "text": [
      "/mnt/users/ffr_plaque_mask/1036604/65669469/mask_plaque_centerline.nii.gz\n",
      "(197, 512, 512)\n",
      "[ 0.  1. 10.]\n"
     ]
    },
    {
     "data": {
      "application/vnd.jupyter.widget-view+json": {
       "model_id": "316310ce17854551ad8d6c52b07d1744",
       "version_major": 2,
       "version_minor": 0
      },
      "text/plain": [
       "Viewer(geometries=[], gradient_opacity=0.22, point_set_colors=array([[0.8392157 , 0.        , 0.        ],\n",
       "   …"
      ]
     },
     "metadata": {},
     "output_type": "display_data"
    }
   ],
   "source": [
    "import numpy as np\n",
    "import nibabel as nib\n",
    "import itk\n",
    "from itkwidgets import view\n",
    "import glob\n",
    "import os\n",
    "import SimpleITK as sitk\n",
    "\n",
    "def show_data(path):\n",
    "    print(path)\n",
    "    img = sitk.ReadImage(path)\n",
    "    data = sitk.GetArrayFromImage(img)\n",
    "    print(data.shape)\n",
    "    data = np.unique(data)\n",
    "    print(data)\n",
    "    \n",
    "series_name = '1036604/65669469'#'1073332/5F653FE9' 6566EAC0\n",
    "vessel_name = glob.glob(os.path.join('/mnt/DrwiseDataNFS/drwise_runtime_env/data1/inputdata/', series_name.split('/')[0], '*', series_name.split('/')[1]+'_CTA', 'mask_source/mask_vessel.nii.gz'))\n",
    "vessel_plque_nii = nib.load(vessel_name[0])\n",
    "origin_vessel_plque_nii = nib.load('/mnt/users/ffr_plaque_mask/'+series_name+'/mask_plaque_centerline.nii.gz')\n",
    "new_vessel_plque_nii = nib.load('/mnt/users/ffr_plaque_mask/'+series_name+'/mask_plaque_newwsw.nii.gz')\n",
    "direct_vessel_plque_nii = nib.load('/mnt/users/ffr_plaque_mask/'+series_name+'/mask_plaque.nii.gz')\n",
    "show_data('/mnt/users/ffr_plaque_mask/'+series_name+'/mask_plaque_centerline.nii.gz')\n",
    "#show_data('/mnt/users/ffr_plaque_mask/'+series_name+'/mask_plaque_newmap.nii.gz')\n",
    "vessel_plque = vessel_plque_nii.get_fdata()\n",
    "origin_vessel_plque = origin_vessel_plque_nii.get_fdata()\n",
    "new_vessel_plque = new_vessel_plque_nii.get_fdata()\n",
    "direct_vessel_plque = direct_vessel_plque_nii.get_fdata()\n",
    "pts0 = np.stack(np.where(vessel_plque>0), axis=1)\n",
    "pts1 = np.stack(np.where(origin_vessel_plque>0), axis=1)\n",
    "pts2 = np.stack(np.where(new_vessel_plque>0), axis=1)\n",
    "pts3 = np.stack(np.where(direct_vessel_plque>0), axis=1)\n",
    "view(point_sets=[pts0, pts1, pts2, pts3])"
   ]
  },
  {
   "cell_type": "code",
   "execution_count": 133,
   "metadata": {},
   "outputs": [
    {
     "ename": "FileNotFoundError",
     "evalue": "No such file or no access: '/mnt/users/ffr_plaque_mask/1036604/65669469/mask_plaque_cprint0.nii.gz'",
     "output_type": "error",
     "traceback": [
      "\u001b[0;31m---------------------------------------------------------------------------\u001b[0m",
      "\u001b[0;31mFileNotFoundError\u001b[0m                         Traceback (most recent call last)",
      "\u001b[0;32m~/.local/lib/python3.7/site-packages/nibabel/loadsave.py\u001b[0m in \u001b[0;36mload\u001b[0;34m(filename, **kwargs)\u001b[0m\n\u001b[1;32m     41\u001b[0m     \u001b[0;32mtry\u001b[0m\u001b[0;34m:\u001b[0m\u001b[0;34m\u001b[0m\u001b[0;34m\u001b[0m\u001b[0m\n\u001b[0;32m---> 42\u001b[0;31m         \u001b[0mstat_result\u001b[0m \u001b[0;34m=\u001b[0m \u001b[0mos\u001b[0m\u001b[0;34m.\u001b[0m\u001b[0mstat\u001b[0m\u001b[0;34m(\u001b[0m\u001b[0mfilename\u001b[0m\u001b[0;34m)\u001b[0m\u001b[0;34m\u001b[0m\u001b[0;34m\u001b[0m\u001b[0m\n\u001b[0m\u001b[1;32m     43\u001b[0m     \u001b[0;32mexcept\u001b[0m \u001b[0mOSError\u001b[0m\u001b[0;34m:\u001b[0m\u001b[0;34m\u001b[0m\u001b[0;34m\u001b[0m\u001b[0m\n",
      "\u001b[0;31mFileNotFoundError\u001b[0m: [Errno 2] No such file or directory: '/mnt/users/ffr_plaque_mask/1036604/65669469/mask_plaque_cprint0.nii.gz'",
      "\nDuring handling of the above exception, another exception occurred:\n",
      "\u001b[0;31mFileNotFoundError\u001b[0m                         Traceback (most recent call last)",
      "\u001b[0;32m<ipython-input-133-1da22c2d202f>\u001b[0m in \u001b[0;36m<module>\u001b[0;34m\u001b[0m\n\u001b[0;32m----> 1\u001b[0;31m \u001b[0mmask_plaque_cpr0\u001b[0m \u001b[0;34m=\u001b[0m \u001b[0mnib\u001b[0m\u001b[0;34m.\u001b[0m\u001b[0mload\u001b[0m\u001b[0;34m(\u001b[0m\u001b[0;34m'/mnt/users/ffr_plaque_mask/'\u001b[0m\u001b[0;34m+\u001b[0m\u001b[0mseries_name\u001b[0m\u001b[0;34m+\u001b[0m\u001b[0;34m'/mask_plaque_cprint0.nii.gz'\u001b[0m\u001b[0;34m)\u001b[0m\u001b[0;34m\u001b[0m\u001b[0;34m\u001b[0m\u001b[0m\n\u001b[0m\u001b[1;32m      2\u001b[0m \u001b[0mmask_plaque_cpr1\u001b[0m \u001b[0;34m=\u001b[0m \u001b[0mnib\u001b[0m\u001b[0;34m.\u001b[0m\u001b[0mload\u001b[0m\u001b[0;34m(\u001b[0m\u001b[0;34m'/mnt/users/ffr_plaque_mask/'\u001b[0m\u001b[0;34m+\u001b[0m\u001b[0mseries_name\u001b[0m\u001b[0;34m+\u001b[0m\u001b[0;34m'/mask_plaque_cprint1.nii.gz'\u001b[0m\u001b[0;34m)\u001b[0m\u001b[0;34m\u001b[0m\u001b[0;34m\u001b[0m\u001b[0m\n\u001b[1;32m      3\u001b[0m \u001b[0mmask_plaque_cpr2\u001b[0m \u001b[0;34m=\u001b[0m \u001b[0mnib\u001b[0m\u001b[0;34m.\u001b[0m\u001b[0mload\u001b[0m\u001b[0;34m(\u001b[0m\u001b[0;34m'/mnt/users/ffr_plaque_mask/'\u001b[0m\u001b[0;34m+\u001b[0m\u001b[0mseries_name\u001b[0m\u001b[0;34m+\u001b[0m\u001b[0;34m'/mask_plaque_cprint2.nii.gz'\u001b[0m\u001b[0;34m)\u001b[0m\u001b[0;34m\u001b[0m\u001b[0;34m\u001b[0m\u001b[0m\n\u001b[1;32m      4\u001b[0m \u001b[0mmask_plaque_cpr3\u001b[0m \u001b[0;34m=\u001b[0m \u001b[0mnib\u001b[0m\u001b[0;34m.\u001b[0m\u001b[0mload\u001b[0m\u001b[0;34m(\u001b[0m\u001b[0;34m'/mnt/users/ffr_plaque_mask/'\u001b[0m\u001b[0;34m+\u001b[0m\u001b[0mseries_name\u001b[0m\u001b[0;34m+\u001b[0m\u001b[0;34m'/mask_plaque_cprint3.nii.gz'\u001b[0m\u001b[0;34m)\u001b[0m\u001b[0;34m\u001b[0m\u001b[0;34m\u001b[0m\u001b[0m\n\u001b[1;32m      5\u001b[0m \u001b[0mmask_plaque_cpr4\u001b[0m \u001b[0;34m=\u001b[0m \u001b[0mnib\u001b[0m\u001b[0;34m.\u001b[0m\u001b[0mload\u001b[0m\u001b[0;34m(\u001b[0m\u001b[0;34m'/mnt/users/ffr_plaque_mask/'\u001b[0m\u001b[0;34m+\u001b[0m\u001b[0mseries_name\u001b[0m\u001b[0;34m+\u001b[0m\u001b[0;34m'/mask_plaque_cprint4.nii.gz'\u001b[0m\u001b[0;34m)\u001b[0m\u001b[0;34m\u001b[0m\u001b[0;34m\u001b[0m\u001b[0m\n",
      "\u001b[0;32m~/.local/lib/python3.7/site-packages/nibabel/loadsave.py\u001b[0m in \u001b[0;36mload\u001b[0;34m(filename, **kwargs)\u001b[0m\n\u001b[1;32m     42\u001b[0m         \u001b[0mstat_result\u001b[0m \u001b[0;34m=\u001b[0m \u001b[0mos\u001b[0m\u001b[0;34m.\u001b[0m\u001b[0mstat\u001b[0m\u001b[0;34m(\u001b[0m\u001b[0mfilename\u001b[0m\u001b[0;34m)\u001b[0m\u001b[0;34m\u001b[0m\u001b[0;34m\u001b[0m\u001b[0m\n\u001b[1;32m     43\u001b[0m     \u001b[0;32mexcept\u001b[0m \u001b[0mOSError\u001b[0m\u001b[0;34m:\u001b[0m\u001b[0;34m\u001b[0m\u001b[0;34m\u001b[0m\u001b[0m\n\u001b[0;32m---> 44\u001b[0;31m         \u001b[0;32mraise\u001b[0m \u001b[0mFileNotFoundError\u001b[0m\u001b[0;34m(\u001b[0m\u001b[0;34m\"No such file or no access: '%s'\"\u001b[0m \u001b[0;34m%\u001b[0m \u001b[0mfilename\u001b[0m\u001b[0;34m)\u001b[0m\u001b[0;34m\u001b[0m\u001b[0;34m\u001b[0m\u001b[0m\n\u001b[0m\u001b[1;32m     45\u001b[0m     \u001b[0;32mif\u001b[0m \u001b[0mstat_result\u001b[0m\u001b[0;34m.\u001b[0m\u001b[0mst_size\u001b[0m \u001b[0;34m<=\u001b[0m \u001b[0;36m0\u001b[0m\u001b[0;34m:\u001b[0m\u001b[0;34m\u001b[0m\u001b[0;34m\u001b[0m\u001b[0m\n\u001b[1;32m     46\u001b[0m         \u001b[0;32mraise\u001b[0m \u001b[0mImageFileError\u001b[0m\u001b[0;34m(\u001b[0m\u001b[0;34m\"Empty file: '%s'\"\u001b[0m \u001b[0;34m%\u001b[0m \u001b[0mfilename\u001b[0m\u001b[0;34m)\u001b[0m\u001b[0;34m\u001b[0m\u001b[0;34m\u001b[0m\u001b[0m\n",
      "\u001b[0;31mFileNotFoundError\u001b[0m: No such file or no access: '/mnt/users/ffr_plaque_mask/1036604/65669469/mask_plaque_cprint0.nii.gz'"
     ]
    }
   ],
   "source": [
    "mask_plaque_cpr0 = nib.load('/mnt/users/ffr_plaque_mask/'+series_name+'/mask_plaque_cprint0.nii.gz')\n",
    "mask_plaque_cpr1 = nib.load('/mnt/users/ffr_plaque_mask/'+series_name+'/mask_plaque_cprint1.nii.gz')\n",
    "mask_plaque_cpr2 = nib.load('/mnt/users/ffr_plaque_mask/'+series_name+'/mask_plaque_cprint2.nii.gz')\n",
    "mask_plaque_cpr3 = nib.load('/mnt/users/ffr_plaque_mask/'+series_name+'/mask_plaque_cprint3.nii.gz')\n",
    "mask_plaque_cpr4 = nib.load('/mnt/users/ffr_plaque_mask/'+series_name+'/mask_plaque_cprint4.nii.gz')\n",
    "mask_plaque_cpr5 = nib.load('/mnt/users/ffr_plaque_mask/'+series_name+'/mask_plaque_cprint5.nii.gz')\n",
    "mask_plaque_cpr6 = nib.load('/mnt/users/ffr_plaque_mask/'+series_name+'/mask_plaque_cprint6.nii.gz')\n",
    "mask_plaque_cpr7 = nib.load('/mnt/users/ffr_plaque_mask/'+series_name+'/mask_plaque_cprint7.nii.gz')\n",
    "mask_plaque_cpr8 = nib.load('/mnt/users/ffr_plaque_mask/'+series_name+'/mask_plaque_cprint8.nii.gz')\n",
    "mask_plaque_cpr9 = nib.load('/mnt/users/ffr_plaque_mask/'+series_name+'/mask_plaque_cprint9.nii.gz')\n",
    "mask_plaque_cpr10 = nib.load('/mnt/users/ffr_plaque_mask/'+series_name+'/mask_plaque_cprint10.nii.gz')\n",
    "mask_plaque_cpr11 = nib.load('/mnt/users/ffr_plaque_mask/'+series_name+'/mask_plaque_cprint11.nii.gz')\n",
    "mask_plaque_cpr12 = nib.load('/mnt/users/ffr_plaque_mask/'+series_name+'/mask_plaque_cprint12.nii.gz')\n",
    "mask_plaque_cpr13 = nib.load('/mnt/users/ffr_plaque_mask/'+series_name+'/mask_plaque_cprint13.nii.gz')\n",
    "mask_plaque_cpr14 = nib.load('/mnt/users/ffr_plaque_mask/'+series_name+'/mask_plaque_cprint14.nii.gz')\n",
    "mask_plaque_cpr15 = nib.load('/mnt/users/ffr_plaque_mask/'+series_name+'/mask_plaque_cprint15.nii.gz')\n",
    "mask_plaque_cpr16 = nib.load('/mnt/users/ffr_plaque_mask/'+series_name+'/mask_plaque_cprint16.nii.gz')\n",
    "mask_plaque_cpr17 = nib.load('/mnt/users/ffr_plaque_mask/'+series_name+'/mask_plaque_cprint17.nii.gz')\n",
    "mask_plaque_cpr0 = mask_plaque_cpr0.get_fdata()\n",
    "mask_plaque_cpr1 = mask_plaque_cpr1.get_fdata()\n",
    "mask_plaque_cpr2 = mask_plaque_cpr2.get_fdata()\n",
    "mask_plaque_cpr3 = mask_plaque_cpr3.get_fdata()\n",
    "mask_plaque_cpr4 = mask_plaque_cpr4.get_fdata()\n",
    "mask_plaque_cpr5 = mask_plaque_cpr5.get_fdata()\n",
    "mask_plaque_cpr6 = mask_plaque_cpr6.get_fdata()\n",
    "mask_plaque_cpr7 = mask_plaque_cpr7.get_fdata()\n",
    "mask_plaque_cpr8 = mask_plaque_cpr8.get_fdata()\n",
    "mask_plaque_cpr9 = mask_plaque_cpr9.get_fdata()\n",
    "mask_plaque_cpr10 = mask_plaque_cpr10.get_fdata()\n",
    "mask_plaque_cpr11 = mask_plaque_cpr11.get_fdata()\n",
    "mask_plaque_cpr12 = mask_plaque_cpr12.get_fdata()\n",
    "mask_plaque_cpr13 = mask_plaque_cpr13.get_fdata()\n",
    "mask_plaque_cpr14 = mask_plaque_cpr14.get_fdata()\n",
    "mask_plaque_cpr15 = mask_plaque_cpr15.get_fdata()\n",
    "mask_plaque_cpr16 = mask_plaque_cpr16.get_fdata()\n",
    "mask_plaque_cpr17 = mask_plaque_cpr17.get_fdata()\n",
    "pts0 = np.stack(np.where(mask_plaque_cpr0>0), axis=1)\n",
    "pts1 = np.stack(np.where(mask_plaque_cpr1>0), axis=1)\n",
    "pts2 = np.stack(np.where(mask_plaque_cpr2>0), axis=1)\n",
    "pts3 = np.stack(np.where(mask_plaque_cpr3>0), axis=1)\n",
    "pts4 = np.stack(np.where(mask_plaque_cpr4>0), axis=1)\n",
    "pts5 = np.stack(np.where(mask_plaque_cpr5>0), axis=1)\n",
    "pts6 = np.stack(np.where(mask_plaque_cpr6>0), axis=1)\n",
    "pts7 = np.stack(np.where(mask_plaque_cpr7>0), axis=1)\n",
    "pts8 = np.stack(np.where(mask_plaque_cpr8>0), axis=1)\n",
    "pts9 = np.stack(np.where(mask_plaque_cpr9>0), axis=1)\n",
    "pts10 = np.stack(np.where(mask_plaque_cpr10>0), axis=1)\n",
    "pts11 = np.stack(np.where(mask_plaque_cpr11>0), axis=1)\n",
    "pts12 = np.stack(np.where(mask_plaque_cpr12>0), axis=1)\n",
    "pts13 = np.stack(np.where(mask_plaque_cpr13>0), axis=1)\n",
    "pts14 = np.stack(np.where(mask_plaque_cpr14>0), axis=1)\n",
    "pts15 = np.stack(np.where(mask_plaque_cpr15>0), axis=1)\n",
    "pts16 = np.stack(np.where(mask_plaque_cpr16>0), axis=1)\n",
    "pts17 = np.stack(np.where(mask_plaque_cpr17>0), axis=1)\n",
    "view(point_sets=[pts0,pts1,pts2,pts3,pts4,pts5,pts6,pts7,pts8,pts9,pts10,pts11,pts12,pts13,pts14,pts15,pts16,pts17])"
   ]
  },
  {
   "cell_type": "code",
   "execution_count": 71,
   "metadata": {},
   "outputs": [
    {
     "data": {
      "application/vnd.jupyter.widget-view+json": {
       "model_id": "20eb31ce1d694b3ea3bbcea232279a0c",
       "version_major": 2,
       "version_minor": 0
      },
      "text/plain": [
       "Viewer(geometries=[], gradient_opacity=0.22, point_set_colors=array([[0.8392157, 0.       , 0.       ]], dtype…"
      ]
     },
     "metadata": {},
     "output_type": "display_data"
    }
   ],
   "source": [
    "view(point_sets=[pts3])"
   ]
  },
  {
   "cell_type": "code",
   "execution_count": 77,
   "metadata": {},
   "outputs": [
    {
     "data": {
      "application/vnd.jupyter.widget-view+json": {
       "model_id": "1015bd4024e14e3dafd08c55fd02cacf",
       "version_major": 2,
       "version_minor": 0
      },
      "text/plain": [
       "Viewer(geometries=[], gradient_opacity=0.22, point_set_colors=array([[0.8392157 , 0.        , 0.        ],\n",
       "   …"
      ]
     },
     "metadata": {},
     "output_type": "display_data"
    }
   ],
   "source": [
    "mask_plaque_cpr0 = nib.load('/mnt/users/ffr_plaque_mask/'+series_name+'/mask_plaque_cprint360.nii.gz')\n",
    "mask_plaque_cpr1 = nib.load('/mnt/users/ffr_plaque_mask/'+series_name+'/mask_plaque_cprint361.nii.gz')\n",
    "mask_plaque_cpr2 = nib.load('/mnt/users/ffr_plaque_mask/'+series_name+'/mask_plaque_cprint362.nii.gz')\n",
    "mask_plaque_cpr3 = nib.load('/mnt/users/ffr_plaque_mask/'+series_name+'/mask_plaque_cprint363.nii.gz')\n",
    "mask_plaque_cpr4 = nib.load('/mnt/users/ffr_plaque_mask/'+series_name+'/mask_plaque_cprint364.nii.gz')\n",
    "mask_plaque_cpr5 = nib.load('/mnt/users/ffr_plaque_mask/'+series_name+'/mask_plaque_cprint365.nii.gz')\n",
    "mask_plaque_cpr6 = nib.load('/mnt/users/ffr_plaque_mask/'+series_name+'/mask_plaque_cprint366.nii.gz')\n",
    "mask_plaque_cpr7 = nib.load('/mnt/users/ffr_plaque_mask/'+series_name+'/mask_plaque_cprint367.nii.gz')\n",
    "mask_plaque_cpr8 = nib.load('/mnt/users/ffr_plaque_mask/'+series_name+'/mask_plaque_cprint368.nii.gz')\n",
    "mask_plaque_cpr9 = nib.load('/mnt/users/ffr_plaque_mask/'+series_name+'/mask_plaque_cprint369.nii.gz')\n",
    "mask_plaque_cpr10 = nib.load('/mnt/users/ffr_plaque_mask/'+series_name+'/mask_plaque_cprint370.nii.gz')\n",
    "mask_plaque_cpr11 = nib.load('/mnt/users/ffr_plaque_mask/'+series_name+'/mask_plaque_cprint371.nii.gz')\n",
    "mask_plaque_cpr12 = nib.load('/mnt/users/ffr_plaque_mask/'+series_name+'/mask_plaque_cprint372.nii.gz')\n",
    "mask_plaque_cpr13 = nib.load('/mnt/users/ffr_plaque_mask/'+series_name+'/mask_plaque_cprint373.nii.gz')\n",
    "mask_plaque_cpr14 = nib.load('/mnt/users/ffr_plaque_mask/'+series_name+'/mask_plaque_cprint374.nii.gz')\n",
    "mask_plaque_cpr15 = nib.load('/mnt/users/ffr_plaque_mask/'+series_name+'/mask_plaque_cprint375.nii.gz')\n",
    "mask_plaque_cpr16 = nib.load('/mnt/users/ffr_plaque_mask/'+series_name+'/mask_plaque_cprint376.nii.gz')\n",
    "mask_plaque_cpr17 = nib.load('/mnt/users/ffr_plaque_mask/'+series_name+'/mask_plaque_cprint377.nii.gz')\n",
    "mask_plaque_cpr18 = nib.load('/mnt/users/ffr_plaque_mask/'+series_name+'/mask_plaque_cprint378.nii.gz')\n",
    "mask_plaque_cpr19 = nib.load('/mnt/users/ffr_plaque_mask/'+series_name+'/mask_plaque_cprint379.nii.gz')\n",
    "mask_plaque_cpr0 = mask_plaque_cpr0.get_fdata()\n",
    "mask_plaque_cpr1 = mask_plaque_cpr1.get_fdata()\n",
    "mask_plaque_cpr2 = mask_plaque_cpr2.get_fdata()\n",
    "mask_plaque_cpr3 = mask_plaque_cpr3.get_fdata()\n",
    "mask_plaque_cpr4 = mask_plaque_cpr4.get_fdata()\n",
    "mask_plaque_cpr5 = mask_plaque_cpr5.get_fdata()\n",
    "mask_plaque_cpr6 = mask_plaque_cpr6.get_fdata()\n",
    "mask_plaque_cpr7 = mask_plaque_cpr7.get_fdata()\n",
    "mask_plaque_cpr8 = mask_plaque_cpr8.get_fdata()\n",
    "mask_plaque_cpr9 = mask_plaque_cpr9.get_fdata()\n",
    "mask_plaque_cpr10 = mask_plaque_cpr10.get_fdata()\n",
    "mask_plaque_cpr11 = mask_plaque_cpr11.get_fdata()\n",
    "mask_plaque_cpr12 = mask_plaque_cpr12.get_fdata()\n",
    "mask_plaque_cpr13 = mask_plaque_cpr13.get_fdata()\n",
    "mask_plaque_cpr14 = mask_plaque_cpr14.get_fdata()\n",
    "mask_plaque_cpr15 = mask_plaque_cpr15.get_fdata()\n",
    "mask_plaque_cpr16 = mask_plaque_cpr16.get_fdata()\n",
    "mask_plaque_cpr17 = mask_plaque_cpr17.get_fdata()\n",
    "mask_plaque_cpr18 = mask_plaque_cpr18.get_fdata()\n",
    "mask_plaque_cpr19 = mask_plaque_cpr19.get_fdata()\n",
    "pts0 = np.stack(np.where(mask_plaque_cpr0>0), axis=1)\n",
    "pts1 = np.stack(np.where(mask_plaque_cpr1>0), axis=1)\n",
    "pts2 = np.stack(np.where(mask_plaque_cpr2>0), axis=1)\n",
    "pts3 = np.stack(np.where(mask_plaque_cpr3>0), axis=1)\n",
    "pts4 = np.stack(np.where(mask_plaque_cpr4>0), axis=1)\n",
    "pts5 = np.stack(np.where(mask_plaque_cpr5>0), axis=1)\n",
    "pts6 = np.stack(np.where(mask_plaque_cpr6>0), axis=1)\n",
    "pts7 = np.stack(np.where(mask_plaque_cpr7>0), axis=1)\n",
    "pts8 = np.stack(np.where(mask_plaque_cpr8>0), axis=1)\n",
    "pts9 = np.stack(np.where(mask_plaque_cpr9>0), axis=1)\n",
    "pts10 = np.stack(np.where(mask_plaque_cpr10>0), axis=1)\n",
    "pts11 = np.stack(np.where(mask_plaque_cpr11>0), axis=1)\n",
    "pts12 = np.stack(np.where(mask_plaque_cpr12>0), axis=1)\n",
    "pts13 = np.stack(np.where(mask_plaque_cpr13>0), axis=1)\n",
    "pts14 = np.stack(np.where(mask_plaque_cpr14>0), axis=1)\n",
    "pts15 = np.stack(np.where(mask_plaque_cpr15>0), axis=1)\n",
    "pts16 = np.stack(np.where(mask_plaque_cpr16>0), axis=1)\n",
    "pts17 = np.stack(np.where(mask_plaque_cpr17>0), axis=1)\n",
    "pts18 = np.stack(np.where(mask_plaque_cpr18>0), axis=1)\n",
    "pts19 = np.stack(np.where(mask_plaque_cpr19>0), axis=1)\n",
    "view(point_sets=[pts0,pts1,pts2,pts3,pts4,pts5,pts6,pts7,pts8,pts9,pts10,pts11,pts12,pts13,pts14,pts15,pts16,pts17,pts18,pts19])"
   ]
  },
  {
   "cell_type": "code",
   "execution_count": 78,
   "metadata": {},
   "outputs": [
    {
     "data": {
      "application/vnd.jupyter.widget-view+json": {
       "model_id": "f619f73d4ef64a968bc4122b60585e9d",
       "version_major": 2,
       "version_minor": 0
      },
      "text/plain": [
       "Viewer(geometries=[], gradient_opacity=0.22, point_set_colors=array([[0.8392157 , 0.        , 0.        ],\n",
       "   …"
      ]
     },
     "metadata": {},
     "output_type": "display_data"
    }
   ],
   "source": [
    "mask_plaque_cpr0 = nib.load('/mnt/users/ffr_plaque_mask/'+series_name+'/mask_plaque_cpr_regionint30.nii.gz')\n",
    "mask_plaque_cpr1 = nib.load('/mnt/users/ffr_plaque_mask/'+series_name+'/mask_plaque_cpr_regionint31.nii.gz')\n",
    "mask_plaque_cpr2 = nib.load('/mnt/users/ffr_plaque_mask/'+series_name+'/mask_plaque_cpr_regionint32.nii.gz')\n",
    "mask_plaque_cpr3 = nib.load('/mnt/users/ffr_plaque_mask/'+series_name+'/mask_plaque_cpr_regionint33.nii.gz')\n",
    "mask_plaque_cpr4 = nib.load('/mnt/users/ffr_plaque_mask/'+series_name+'/mask_plaque_cpr_regionint34.nii.gz')\n",
    "mask_plaque_cpr5 = nib.load('/mnt/users/ffr_plaque_mask/'+series_name+'/mask_plaque_cpr_regionint35.nii.gz')\n",
    "mask_plaque_cpr6 = nib.load('/mnt/users/ffr_plaque_mask/'+series_name+'/mask_plaque_cpr_regionint36.nii.gz')\n",
    "mask_plaque_cpr7 = nib.load('/mnt/users/ffr_plaque_mask/'+series_name+'/mask_plaque_cpr_regionint37.nii.gz')\n",
    "mask_plaque_cpr8 = nib.load('/mnt/users/ffr_plaque_mask/'+series_name+'/mask_plaque_cpr_regionint38.nii.gz')\n",
    "mask_plaque_cpr9 = nib.load('/mnt/users/ffr_plaque_mask/'+series_name+'/mask_plaque_cpr_regionint39.nii.gz')\n",
    "mask_plaque_cpr10 = nib.load('/mnt/users/ffr_plaque_mask/'+series_name+'/mask_plaque_cpr_regionint310.nii.gz')\n",
    "mask_plaque_cpr11 = nib.load('/mnt/users/ffr_plaque_mask/'+series_name+'/mask_plaque_cpr_regionint311.nii.gz')\n",
    "mask_plaque_cpr12 = nib.load('/mnt/users/ffr_plaque_mask/'+series_name+'/mask_plaque_cpr_regionint312.nii.gz')\n",
    "mask_plaque_cpr13 = nib.load('/mnt/users/ffr_plaque_mask/'+series_name+'/mask_plaque_cpr_regionint313.nii.gz')\n",
    "mask_plaque_cpr14 = nib.load('/mnt/users/ffr_plaque_mask/'+series_name+'/mask_plaque_cpr_regionint314.nii.gz')\n",
    "mask_plaque_cpr15 = nib.load('/mnt/users/ffr_plaque_mask/'+series_name+'/mask_plaque_cpr_regionint315.nii.gz')\n",
    "mask_plaque_cpr16 = nib.load('/mnt/users/ffr_plaque_mask/'+series_name+'/mask_plaque_cpr_regionint316.nii.gz')\n",
    "mask_plaque_cpr0 = mask_plaque_cpr0.get_fdata()\n",
    "mask_plaque_cpr1 = mask_plaque_cpr1.get_fdata()\n",
    "mask_plaque_cpr2 = mask_plaque_cpr2.get_fdata()\n",
    "mask_plaque_cpr3 = mask_plaque_cpr3.get_fdata()\n",
    "mask_plaque_cpr4 = mask_plaque_cpr4.get_fdata()\n",
    "mask_plaque_cpr5 = mask_plaque_cpr5.get_fdata()\n",
    "mask_plaque_cpr6 = mask_plaque_cpr6.get_fdata()\n",
    "mask_plaque_cpr7 = mask_plaque_cpr7.get_fdata()\n",
    "mask_plaque_cpr8 = mask_plaque_cpr8.get_fdata()\n",
    "mask_plaque_cpr9 = mask_plaque_cpr9.get_fdata()\n",
    "mask_plaque_cpr10 = mask_plaque_cpr10.get_fdata()\n",
    "mask_plaque_cpr11 = mask_plaque_cpr11.get_fdata()\n",
    "mask_plaque_cpr12 = mask_plaque_cpr12.get_fdata()\n",
    "mask_plaque_cpr13 = mask_plaque_cpr13.get_fdata()\n",
    "mask_plaque_cpr14 = mask_plaque_cpr14.get_fdata()\n",
    "mask_plaque_cpr15 = mask_plaque_cpr15.get_fdata()\n",
    "mask_plaque_cpr16 = mask_plaque_cpr16.get_fdata()\n",
    "pts0 = np.stack(np.where(mask_plaque_cpr0>0), axis=1)\n",
    "pts1 = np.stack(np.where(mask_plaque_cpr1>0), axis=1)\n",
    "pts2 = np.stack(np.where(mask_plaque_cpr2>0), axis=1)\n",
    "pts3 = np.stack(np.where(mask_plaque_cpr3>0), axis=1)\n",
    "pts4 = np.stack(np.where(mask_plaque_cpr4>0), axis=1)\n",
    "pts5 = np.stack(np.where(mask_plaque_cpr5>0), axis=1)\n",
    "pts6 = np.stack(np.where(mask_plaque_cpr6>0), axis=1)\n",
    "pts7 = np.stack(np.where(mask_plaque_cpr7>0), axis=1)\n",
    "pts8 = np.stack(np.where(mask_plaque_cpr8>0), axis=1)\n",
    "pts9 = np.stack(np.where(mask_plaque_cpr9>0), axis=1)\n",
    "pts10 = np.stack(np.where(mask_plaque_cpr10>0), axis=1)\n",
    "pts11 = np.stack(np.where(mask_plaque_cpr11>0), axis=1)\n",
    "pts12 = np.stack(np.where(mask_plaque_cpr12>0), axis=1)\n",
    "pts13 = np.stack(np.where(mask_plaque_cpr13>0), axis=1)\n",
    "pts14 = np.stack(np.where(mask_plaque_cpr14>0), axis=1)\n",
    "pts15 = np.stack(np.where(mask_plaque_cpr15>0), axis=1)\n",
    "pts16 = np.stack(np.where(mask_plaque_cpr16>0), axis=1)\n",
    "view(point_sets=[pts0,pts1,pts2,pts3,pts4,pts5,pts6,pts7,pts8,pts9,pts10,pts11,pts12,pts13,pts14,pts15,pts16])"
   ]
  },
  {
   "cell_type": "code",
   "execution_count": null,
   "metadata": {},
   "outputs": [],
   "source": []
  }
 ],
 "metadata": {
  "kernelspec": {
   "display_name": "Python 3",
   "language": "python",
   "name": "python3"
  },
  "language_info": {
   "codemirror_mode": {
    "name": "ipython",
    "version": 3
   },
   "file_extension": ".py",
   "mimetype": "text/x-python",
   "name": "python",
   "nbconvert_exporter": "python",
   "pygments_lexer": "ipython3",
   "version": "3.7.7"
  }
 },
 "nbformat": 4,
 "nbformat_minor": 4
}

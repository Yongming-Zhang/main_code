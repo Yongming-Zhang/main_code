{
 "cells": [
  {
   "cell_type": "code",
   "execution_count": null,
   "metadata": {},
   "outputs": [],
   "source": [
    "import numpy as np\n",
    "import nibabel as nib\n",
    "import itk\n",
    "from itkwidgets import view\n",
    "import glob\n",
    "import os\n",
    "import SimpleITK as sitk\n",
    "\n",
    "def show_data(path):\n",
    "    print(path)\n",
    "    img = sitk.ReadImage(path)\n",
    "    data = sitk.GetArrayFromImage(img)\n",
    "    print(data.shape)\n",
    "    data = np.unique(data)\n",
    "    print(data)\n",
    "    \n",
    "series_name = '1022837/62D38185'#1036604/65669469 6566EAC0 1036602/EE59F1EA\n",
    "vessel_name = glob.glob(os.path.join('/mnt/DrwiseDataNFS/drwise_runtime_env/data1/inputdata/', series_name.split('/')[0]+'/', '*', series_name.split('/')[1]+'_CTA', 'mask_source/mask_vessel.nii.gz'))\n",
    "vessel_plaque_nii = nib.load(vessel_name[0])\n",
    "vessel_remove_plaque_nii = nib.load('/mnt/users/ffr_79datasets/ffr_cpr_mask_newmap/'+series_name.split('/')[0]+'/'+series_name.split('/')[1]+'_CTA/mask_vessel-plaque_round60.nii.gz')\n",
    "direct_plaque_nii = nib.load('/mnt/users/ffr_79datasets/ffr_cpr_mask_newmap/'+series_name.split('/')[0]+'/'+series_name.split('/')[1]+'_CTA/mask_plaque_round60.nii.gz')\n",
    "plaque_nii = nib.load('/mnt/users/ffr_79datasets/ffr_cpr_mask_newmap/'+series_name+'_CTA/mask_plaque_round60.nii.gz')\n",
    "mask_pipeline_vessel_plaque_nii = nib.load('/mnt/users/ffr_79datasets/ffr_cpr_mask_newmap/'+series_name.split('/')[0]+'/'+series_name.split('/')[1]+'_CTA/mask_pipeline_vessel_plaque_middlepoint.nii.gz')\n",
    "show_data('/mnt/users/ffr_79datasets/ffr_cpr_mask_newmap/'+series_name.split('/')[0]+'/'+series_name.split('/')[1]+'_CTA/mask_plaque_round60.nii.gz')\n",
    "vessel_plaque = vessel_plaque_nii.get_fdata()\n",
    "vessel_remove_plaque = vessel_remove_plaque_nii.get_fdata()\n",
    "direct_plaque = direct_plaque_nii.get_fdata()\n",
    "plaque = plaque_nii.get_fdata()\n",
    "mask_pipeline_vessel_plaque = mask_pipeline_vessel_plaque_nii.get_fdata()\n",
    "pts0 = np.stack(np.where(vessel_plaque>0), axis=1)\n",
    "pts1 = np.stack(np.where(vessel_remove_plaque>0), axis=1)\n",
    "pts2_int = np.stack(np.where(direct_plaque>0), axis=1)\n",
    "pts_d = np.stack(np.where(plaque>0), axis=1)\n",
    "pts3_v = np.stack(np.where(mask_pipeline_vessel_plaque==1), axis=1)\n",
    "pts3_p = np.stack(np.where(mask_pipeline_vessel_plaque==2), axis=1)\n",
    "view(point_sets=[pts0, pts1, pts2_int, pts3_v, pts3_p])"
   ]
  },
  {
   "cell_type": "code",
   "execution_count": 6,
   "metadata": {},
   "outputs": [
    {
     "ename": "IndexError",
     "evalue": "list index out of range",
     "output_type": "error",
     "traceback": [
      "\u001b[0;31m---------------------------------------------------------------------------\u001b[0m",
      "\u001b[0;31mIndexError\u001b[0m                                Traceback (most recent call last)",
      "\u001b[0;32m<ipython-input-6-a1a6442b8a1c>\u001b[0m in \u001b[0;36m<module>\u001b[0;34m\u001b[0m\n\u001b[1;32m      1\u001b[0m \u001b[0mseries_name\u001b[0m \u001b[0;34m=\u001b[0m \u001b[0;34m'1036604/65669469'\u001b[0m\u001b[0;31m#1036604/65669469 6566EAC0 1036602/EE59F1EA\u001b[0m\u001b[0;34m\u001b[0m\u001b[0;34m\u001b[0m\u001b[0m\n\u001b[1;32m      2\u001b[0m \u001b[0mvessel_name\u001b[0m \u001b[0;34m=\u001b[0m \u001b[0mglob\u001b[0m\u001b[0;34m.\u001b[0m\u001b[0mglob\u001b[0m\u001b[0;34m(\u001b[0m\u001b[0mos\u001b[0m\u001b[0;34m.\u001b[0m\u001b[0mpath\u001b[0m\u001b[0;34m.\u001b[0m\u001b[0mjoin\u001b[0m\u001b[0;34m(\u001b[0m\u001b[0;34m'/mnt/DrwiseDataNFS/drwise_runtime_env/data1/inputdata/'\u001b[0m\u001b[0;34m,\u001b[0m \u001b[0mseries_name\u001b[0m\u001b[0;34m.\u001b[0m\u001b[0msplit\u001b[0m\u001b[0;34m(\u001b[0m\u001b[0;34m'/'\u001b[0m\u001b[0;34m)\u001b[0m\u001b[0;34m[\u001b[0m\u001b[0;36m0\u001b[0m\u001b[0;34m]\u001b[0m\u001b[0;34m+\u001b[0m\u001b[0;34m'_20_0416'\u001b[0m\u001b[0;34m,\u001b[0m \u001b[0;34m'*'\u001b[0m\u001b[0;34m,\u001b[0m \u001b[0mseries_name\u001b[0m\u001b[0;34m.\u001b[0m\u001b[0msplit\u001b[0m\u001b[0;34m(\u001b[0m\u001b[0;34m'/'\u001b[0m\u001b[0;34m)\u001b[0m\u001b[0;34m[\u001b[0m\u001b[0;36m1\u001b[0m\u001b[0;34m]\u001b[0m\u001b[0;34m+\u001b[0m\u001b[0;34m'_CTA'\u001b[0m\u001b[0;34m,\u001b[0m \u001b[0;34m'mask_source/mask_vessel.nii.gz'\u001b[0m\u001b[0;34m)\u001b[0m\u001b[0;34m)\u001b[0m\u001b[0;34m\u001b[0m\u001b[0;34m\u001b[0m\u001b[0m\n\u001b[0;32m----> 3\u001b[0;31m \u001b[0mvessel_plaque_nii\u001b[0m \u001b[0;34m=\u001b[0m \u001b[0mnib\u001b[0m\u001b[0;34m.\u001b[0m\u001b[0mload\u001b[0m\u001b[0;34m(\u001b[0m\u001b[0mvessel_name\u001b[0m\u001b[0;34m[\u001b[0m\u001b[0;36m0\u001b[0m\u001b[0;34m]\u001b[0m\u001b[0;34m)\u001b[0m\u001b[0;34m\u001b[0m\u001b[0;34m\u001b[0m\u001b[0m\n\u001b[0m\u001b[1;32m      4\u001b[0m \u001b[0mvessel_remove_plaque_nii\u001b[0m \u001b[0;34m=\u001b[0m \u001b[0mnib\u001b[0m\u001b[0;34m.\u001b[0m\u001b[0mload\u001b[0m\u001b[0;34m(\u001b[0m\u001b[0;34m'/mnt/users/ffr_datasets/ffr_cpr_mask_newmap/'\u001b[0m\u001b[0;34m+\u001b[0m\u001b[0mseries_name\u001b[0m\u001b[0;34m.\u001b[0m\u001b[0msplit\u001b[0m\u001b[0;34m(\u001b[0m\u001b[0;34m'/'\u001b[0m\u001b[0;34m)\u001b[0m\u001b[0;34m[\u001b[0m\u001b[0;36m0\u001b[0m\u001b[0;34m]\u001b[0m\u001b[0;34m+\u001b[0m\u001b[0;34m'_20_0416/'\u001b[0m\u001b[0;34m+\u001b[0m\u001b[0mseries_name\u001b[0m\u001b[0;34m.\u001b[0m\u001b[0msplit\u001b[0m\u001b[0;34m(\u001b[0m\u001b[0;34m'/'\u001b[0m\u001b[0;34m)\u001b[0m\u001b[0;34m[\u001b[0m\u001b[0;36m1\u001b[0m\u001b[0;34m]\u001b[0m\u001b[0;34m+\u001b[0m\u001b[0;34m'_CTA/mask_vessel-plaque_round20.nii.gz'\u001b[0m\u001b[0;34m)\u001b[0m\u001b[0;34m\u001b[0m\u001b[0;34m\u001b[0m\u001b[0m\n\u001b[1;32m      5\u001b[0m \u001b[0mdirect_plaque_nii\u001b[0m \u001b[0;34m=\u001b[0m \u001b[0mnib\u001b[0m\u001b[0;34m.\u001b[0m\u001b[0mload\u001b[0m\u001b[0;34m(\u001b[0m\u001b[0;34m'/mnt/users/ffr_datasets/ffr_cpr_mask_newmap/'\u001b[0m\u001b[0;34m+\u001b[0m\u001b[0mseries_name\u001b[0m\u001b[0;34m.\u001b[0m\u001b[0msplit\u001b[0m\u001b[0;34m(\u001b[0m\u001b[0;34m'/'\u001b[0m\u001b[0;34m)\u001b[0m\u001b[0;34m[\u001b[0m\u001b[0;36m0\u001b[0m\u001b[0;34m]\u001b[0m\u001b[0;34m+\u001b[0m\u001b[0;34m'_20_0416/'\u001b[0m\u001b[0;34m+\u001b[0m\u001b[0mseries_name\u001b[0m\u001b[0;34m.\u001b[0m\u001b[0msplit\u001b[0m\u001b[0;34m(\u001b[0m\u001b[0;34m'/'\u001b[0m\u001b[0;34m)\u001b[0m\u001b[0;34m[\u001b[0m\u001b[0;36m1\u001b[0m\u001b[0;34m]\u001b[0m\u001b[0;34m+\u001b[0m\u001b[0;34m'_CTA/mask_plaque_round20.nii.gz'\u001b[0m\u001b[0;34m)\u001b[0m\u001b[0;34m\u001b[0m\u001b[0;34m\u001b[0m\u001b[0m\n",
      "\u001b[0;31mIndexError\u001b[0m: list index out of range"
     ]
    }
   ],
   "source": [
    "series_name = '1036604/65669469'#1036604/65669469 6566EAC0 1036602/EE59F1EA\n",
    "vessel_name = glob.glob(os.path.join('/mnt/DrwiseDataNFS/drwise_runtime_env/data1/inputdata/', series_name.split('/')[0]+'_20_0416', '*', series_name.split('/')[1]+'_CTA', 'mask_source/mask_vessel.nii.gz'))\n",
    "vessel_plaque_nii = nib.load(vessel_name[0])\n",
    "vessel_remove_plaque_nii = nib.load('/mnt/users/ffr_datasets/ffr_cpr_mask_newmap/'+series_name.split('/')[0]+'_20_0416/'+series_name.split('/')[1]+'_CTA/mask_vessel-plaque_round20.nii.gz')\n",
    "direct_plaque_nii = nib.load('/mnt/users/ffr_datasets/ffr_cpr_mask_newmap/'+series_name.split('/')[0]+'_20_0416/'+series_name.split('/')[1]+'_CTA/mask_plaque_round20.nii.gz')\n",
    "show_data('/mnt/users/ffr_datasets/ffr_cpr_mask_newmap/'+series_name.split('/')[0]+'_20_0416/'+series_name.split('/')[1]+'_CTA/mask_plaque_round20.nii.gz')\n",
    "vessel_plaque = vessel_plaque_nii.get_fdata()\n",
    "vessel_remove_plaque = vessel_remove_plaque_nii.get_fdata()\n",
    "direct_plaque = direct_plaque_nii.get_fdata()\n",
    "\n",
    "pts0 = np.stack(np.where(vessel_plaque>0), axis=1)\n",
    "pts3_int = np.stack(np.where(vessel_remove_plaque>0), axis=1)\n",
    "pts4_int = np.stack(np.where(direct_plaque>0), axis=1)\n",
    "view(point_sets=[pts0, pts3_int, pts4_int])"
   ]
  },
  {
   "cell_type": "code",
   "execution_count": 4,
   "metadata": {},
   "outputs": [
    {
     "ename": "NameError",
     "evalue": "name 'pts4_int' is not defined",
     "output_type": "error",
     "traceback": [
      "\u001b[0;31m---------------------------------------------------------------------------\u001b[0m",
      "\u001b[0;31mNameError\u001b[0m                                 Traceback (most recent call last)",
      "\u001b[0;32m<ipython-input-4-26d3b79dc03d>\u001b[0m in \u001b[0;36m<module>\u001b[0;34m\u001b[0m\n\u001b[0;32m----> 1\u001b[0;31m \u001b[0mview\u001b[0m\u001b[0;34m(\u001b[0m\u001b[0mpoint_sets\u001b[0m\u001b[0;34m=\u001b[0m\u001b[0;34m[\u001b[0m\u001b[0mpts0\u001b[0m\u001b[0;34m,\u001b[0m \u001b[0mpts2_int\u001b[0m\u001b[0;34m,\u001b[0m \u001b[0mpts4_int\u001b[0m\u001b[0;34m]\u001b[0m\u001b[0;34m)\u001b[0m\u001b[0;34m\u001b[0m\u001b[0;34m\u001b[0m\u001b[0m\n\u001b[0m",
      "\u001b[0;31mNameError\u001b[0m: name 'pts4_int' is not defined"
     ]
    }
   ],
   "source": [
    "view(point_sets=[pts0, pts2_int, pts4_int])"
   ]
  },
  {
   "cell_type": "code",
   "execution_count": null,
   "metadata": {},
   "outputs": [],
   "source": []
  }
 ],
 "metadata": {
  "kernelspec": {
   "display_name": "Python 3",
   "language": "python",
   "name": "python3"
  },
  "language_info": {
   "codemirror_mode": {
    "name": "ipython",
    "version": 3
   },
   "file_extension": ".py",
   "mimetype": "text/x-python",
   "name": "python",
   "nbconvert_exporter": "python",
   "pygments_lexer": "ipython3",
   "version": "3.6.13"
  }
 },
 "nbformat": 4,
 "nbformat_minor": 4
}

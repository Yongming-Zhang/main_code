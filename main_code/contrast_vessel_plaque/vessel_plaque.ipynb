{
 "cells": [
  {
   "cell_type": "code",
   "execution_count": 86,
   "metadata": {},
   "outputs": [
    {
     "name": "stdout",
     "output_type": "stream",
     "text": [
      "/mnt/users/ffr_plaque_mask/1073332/5F654861/mask_plaque.nii.gz\n",
      "(275, 512, 512)\n",
      "[0 1]\n",
      "vessel_data [1, 6, 5, 2, 9, 3, 7, 8, 10, 4] [1128077, 2328, 491, 15, 10, 9, 5, 2, 1, 1]\n"
     ]
    },
    {
     "data": {
      "application/vnd.jupyter.widget-view+json": {
       "model_id": "4d17d4e127464231a97680744e2d6ef3",
       "version_major": 2,
       "version_minor": 0
      },
      "text/plain": [
       "Viewer(geometries=[], gradient_opacity=0.22, point_set_colors=array([[0.8392157 , 0.        , 0.        ],\n",
       "   …"
      ]
     },
     "metadata": {},
     "output_type": "display_data"
    }
   ],
   "source": [
    "import numpy as np\n",
    "import os\n",
    "import glob\n",
    "import SimpleITK as sitk\n",
    "from skimage import measure\n",
    "import nibabel as nib\n",
    "import itk\n",
    "from itkwidgets import view\n",
    "import seaborn as sns\n",
    "from mitok.utils.mdicom import SERIES\n",
    "\n",
    "def connected_domain(image, mask=True):\n",
    "    cca = sitk.ConnectedComponentImageFilter()\n",
    "    cca.SetFullyConnected(True)\n",
    "    _input = sitk.GetImageFromArray(image.astype(np.uint8))\n",
    "    output_ex = cca.Execute(_input)\n",
    "    stats = sitk.LabelShapeStatisticsImageFilter()\n",
    "    stats.Execute(output_ex)\n",
    "    num_label = cca.GetObjectCount()\n",
    "    num_list = [i for i in range(1, num_label+1)]\n",
    "    area_list = []\n",
    "    for l in range(1, num_label +1):\n",
    "        area_list.append(stats.GetNumberOfPixels(l))\n",
    "    num_list_sorted = sorted(num_list, key=lambda x: area_list[x-1])[::-1]\n",
    "    largest_area = area_list[num_list_sorted[0] - 1]\n",
    "    final_label_list = [num_list_sorted[0]]\n",
    "\n",
    "    for idx, i in enumerate(num_list_sorted[1:]):\n",
    "        if area_list[i-1] >= (largest_area//10):\n",
    "            final_label_list.append(i)\n",
    "        else:\n",
    "            break\n",
    "    output = sitk.GetArrayFromImage(output_ex)\n",
    "\n",
    "    for one_label in num_list:\n",
    "        if  one_label in final_label_list:\n",
    "            continue\n",
    "        x, y, z, w, h, d = stats.GetBoundingBox(one_label)\n",
    "        one_mask = (output[z: z + d, y: y + h, x: x + w] != one_label)\n",
    "        output[z: z + d, y: y + h, x: x + w] *= one_mask\n",
    "\n",
    "    if mask:\n",
    "        output = (output > 0).astype(np.uint8)\n",
    "    else:\n",
    "        output = ((output > 0)*255.).astype(np.uint8)\n",
    "    return output\n",
    "\n",
    "def connected_component(image):\n",
    "    # 标记输入的3D图像\n",
    "    label, num = measure.label(image, connectivity=2, return_num=True)\n",
    "    if num < 1:\n",
    "        return [], image\n",
    "        \n",
    "    # 获取对应的region对象\n",
    "    region = measure.regionprops(label)\n",
    "    # 获取每一块区域面积并排序\n",
    "    num_list = [i for i in range(1, num+1)]\n",
    "    area_list = [region[i-1].area for i in num_list]\n",
    "    num_list_sorted = sorted(num_list, key=lambda x: area_list[x-1])[::-1]\n",
    "    # 去除面积较小的连通域\n",
    "    '''\n",
    "    if len(num_list_sorted) > 3:\n",
    "        # for i in range(3, len(num_list_sorted)):\n",
    "        for i in num_list_sorted[3:]:\n",
    "            # label[label==i] = 0\n",
    "            label[region[i-1].slice][region[i-1].image] = 0\n",
    "        num_list_sorted = num_list_sorted[:3]\n",
    "    '''\n",
    "    return num_list_sorted, label\n",
    "   \n",
    "def np_count(nparray, x):\n",
    "    i = 0\n",
    "    for n in nparray:\n",
    "        if n == x:\n",
    "            i += 1\n",
    "    return i\n",
    "\n",
    "def get_volume(vessel_num, vessel_data):\n",
    "    vessel_volume = []\n",
    "    for i in range(len(vessel_num)):\n",
    "        vessel_volume.append(np_count(vessel_data[np.nonzero(vessel_data)], vessel_num[i]))\n",
    "    return vessel_volume\n",
    "\n",
    "def remove_mix_region(num, volume, out_data):\n",
    "    after_num = []\n",
    "    after_volume = []\n",
    "    for i in range(len(num)):\n",
    "        if volume[i] > 0:\n",
    "            after_num.append(num[i])\n",
    "            after_volume.append(volume[i])\n",
    "        else:\n",
    "            out_data[out_data==num[i]] = 0\n",
    "    return after_num, after_volume, out_data\n",
    "\n",
    "def save_nii(plaque, data):\n",
    "    dealt_plaque_dir = plaque.split('mask_source/')[0]\n",
    "    data[np.nonzero(data)] = 1\n",
    "    plaque_nii = nib.Nifti1Image(data, np.eye(4))\n",
    "    nib.save(plaque_nii, os.path.join(dealt_plaque_dir, 'mask_source/mask_plaque_dealt.nii.gz'))            \n",
    "    \n",
    "def get_brightness(after_num, after_data, img_tensor):\n",
    "    brightness = []\n",
    "    for i in after_num:\n",
    "        brightness.append(round(img_tensor[after_data==i].mean()))\n",
    "        #print(img_tensor[after_data==i])\n",
    "    return brightness\n",
    "\n",
    "#print(plaques)\n",
    "#plaques_dir = os.path.join(plaques.split('mask_source/')[0], 'mask_source/mask_plaque.nii.gz')\n",
    "#data = sitk.ReadImage('/mnt/DrwiseDataNFS/drwise_runtime_env/data1/inputdata/1036623/FCE495EE/784DB1F2_CTA/mask_source/mask_plaque_dealt.nii.gz')\n",
    "#data = sitk.GetArrayFromImage(data)\n",
    "#print(data.shape)\n",
    "#img = itk.imread('/mnt/DrwiseDataNFS/drwise_runtime_env/data1/inputdata/1022837/5A047805/62D38185_CTA/mask_source/mask_plaque.nii.gz')#/mnt/DrwiseDataNFS/drwise_runtime_env/data1/inputdata/1022837/5A047805/62D38185_CTA/mask_source\n",
    "#view(img)\n",
    "\n",
    "def show_data(path):\n",
    "    print(path)\n",
    "    img = sitk.ReadImage(path)\n",
    "    data = sitk.GetArrayFromImage(img)\n",
    "    print(data.shape)\n",
    "    data = np.unique(data)\n",
    "    print(data)\n",
    "\n",
    "#broken_vessels = [1073332/5F654861, 1073332/5F653FE9, 1036627/CBA29632, 1036604/65669469, 1073308/CE363116(F), 1036623/784D418E, 1073309/AB512F17, 1036609/E36BF3A6, \n",
    "#1073297/B1874945, 1073318/AF7B8171, 1073318/AF7B89E9, 1036617/6337C565, 1036617/6337BD02, 1073300/2B82D8BC, 1073298/CF547628, 1022836/56847483]\n",
    "broken_vessel = '1036627/CBA29632'\n",
    "#plaque_name = '/1036603/88130C9F/D6F78C10_CTA' #'/mnt/DrwiseDataNFS/drwise_runtime_env/data1/inputdata/'+plaque_name+'/mask_source/mask_vessel_dealt.nii.gz'\n",
    "vessel_name = glob.glob(os.path.join('/mnt/DrwiseDataNFS/drwise_runtime_env/data1/inputdata/', broken_vessel.split('/')[0], '*', broken_vessel.split('/')[1]+'_CTA', 'mask_source/mask_vessel.nii.gz'))\n",
    "vessel_nii = nib.load(vessel_name[0])\n",
    "plaque_nii = nib.load('/mnt/users/ffr_plaque_mask/'+broken_vessel+'/mask_plaque.nii.gz')\n",
    "vessel_noplaque_repaired_nii = nib.load('/mnt/users/ffr_plaque_mask/'+broken_vessel+'/mask_vessel_dealt.nii.gz')\n",
    "vessel_plaque_repaired_nii = nib.load('/mnt/users/ffr_plaque_mask/'+broken_vessel+'/mask_repaired_vessel_plaque.nii.gz')\n",
    "vessel_plaque_pipeline_nii = nib.load('/mnt/users/ffr_plaque_mask/'+broken_vessel+'/mask_pipeline_vessel_plaque_middlepoint.nii.gz')\n",
    "vessel_plaque_pipeline_view_nii = nib.load('/mnt/users/ffr_plaque_mask/'+broken_vessel+'/mask_pipeline_vessel_plaque.nii.gz')\n",
    "#show_data('/mnt/DrwiseDataNFS/drwise_runtime_env/data1/inputdata/1073332/B5664E68/5F654861_CTA/mask_source/mask_vessel.nii.gz')\n",
    "show_data('/mnt/users/ffr_plaque_mask/1073332/5F654861/mask_plaque.nii.gz')\n",
    "vessel = vessel_nii.get_fdata()\n",
    "plaque = plaque_nii.get_fdata()\n",
    "vessel_noplaque_repaired = vessel_noplaque_repaired_nii.get_fdata()\n",
    "vessel_plaque_repaired = vessel_plaque_repaired_nii.get_fdata()\n",
    "vessel_plaque_pipeline = vessel_plaque_pipeline_nii.get_fdata()\n",
    "vessel_plaque_pipeline_view = vessel_plaque_pipeline_view_nii.get_fdata()\n",
    "data = sitk.ReadImage('/mnt/users/ffr_plaque_mask/'+broken_vessel+'/mask_vessel_dealt.nii.gz')\n",
    "data = sitk.GetArrayFromImage(data)\n",
    "data[data==2] = 1\n",
    "data_num, out_data = connected_component(data)\n",
    "print('vessel_data', data_num, get_volume(data_num, out_data))\n",
    "pts0 = np.stack(np.where(vessel>0), axis=1)\n",
    "pts1 = np.stack(np.where(plaque>0), axis=1)\n",
    "pts2 = np.stack(np.where(vessel_noplaque_repaired==1), axis=1)\n",
    "pts3 = np.stack(np.where(vessel_noplaque_repaired==2), axis=1)\n",
    "pts4 = np.stack(np.where(vessel_plaque_repaired>0), axis=1)\n",
    "pts5 = np.stack(np.where(vessel_plaque_repaired==1), axis=1)\n",
    "pts6 = np.stack(np.where(vessel_plaque_repaired==2), axis=1)\n",
    "pts7 = np.stack(np.where(vessel_plaque_pipeline_view==1), axis=1)\n",
    "pts8 = np.stack(np.where(vessel_plaque_pipeline_view==3), axis=1)\n",
    "pts9 = np.stack(np.where(vessel_plaque_pipeline==1), axis=1)\n",
    "pts10 = np.stack(np.where(vessel_plaque_pipeline==2), axis=1)\n",
    "pts11 = np.stack(np.where(vessel_plaque_pipeline==3), axis=1)\n",
    "#view(point_sets=[pts1, pts2, pts3])\n",
    "view(point_sets=[pts7, pts8])\n",
    "#view(point_sets=[pts9, pts10, pts11])"
   ]
  },
  {
   "cell_type": "code",
   "execution_count": 87,
   "metadata": {},
   "outputs": [],
   "source": [
    "#view(point_sets=[pts1])"
   ]
  },
  {
   "cell_type": "code",
   "execution_count": 88,
   "metadata": {},
   "outputs": [
    {
     "data": {
      "application/vnd.jupyter.widget-view+json": {
       "model_id": "67313cbfcb0d4d62a23be63674592144",
       "version_major": 2,
       "version_minor": 0
      },
      "text/plain": [
       "Viewer(geometries=[], gradient_opacity=0.22, point_set_colors=array([[0.8392157 , 0.        , 0.        ],\n",
       "   …"
      ]
     },
     "metadata": {},
     "output_type": "display_data"
    }
   ],
   "source": [
    "view(point_sets=[pts9, pts10, pts11])"
   ]
  },
  {
   "cell_type": "code",
   "execution_count": 70,
   "metadata": {},
   "outputs": [],
   "source": [
    "#vessel_nii = nib.load('/mnt/DrwiseDataNFS/drwise_runtime_env/data1/inputdata/'+'1022832/FA7B2672/E561C900_CTA/'+'mask_source/mask_vessel.nii.gz')\n",
    "#plaque_nii = nib.load('/mnt/users/ffr_plaque_mask/'+'1022832/E561C900'+'/mask_plaque.nii.gz')\n",
    "#vessel = vessel_nii.get_fdata()\n",
    "#plaque = plaque_nii.get_fdata()\n",
    "#pts0 = np.stack(np.where(vessel>0), axis=1)\n",
    "#pts1 = np.stack(np.where(plaque>0), axis=1)\n",
    "#view(point_sets=[pts0, pts1])"
   ]
  },
  {
   "cell_type": "code",
   "execution_count": null,
   "metadata": {},
   "outputs": [],
   "source": []
  }
 ],
 "metadata": {
  "kernelspec": {
   "display_name": "Python 3",
   "language": "python",
   "name": "python3"
  },
  "language_info": {
   "codemirror_mode": {
    "name": "ipython",
    "version": 3
   },
   "file_extension": ".py",
   "mimetype": "text/x-python",
   "name": "python",
   "nbconvert_exporter": "python",
   "pygments_lexer": "ipython3",
   "version": "3.7.7"
  }
 },
 "nbformat": 4,
 "nbformat_minor": 4
}

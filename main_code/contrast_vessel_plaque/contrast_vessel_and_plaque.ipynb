{
 "cells": [
  {
   "cell_type": "code",
   "execution_count": 2,
   "metadata": {},
   "outputs": [
    {
     "name": "stdout",
     "output_type": "stream",
     "text": [
      "/mnt/users/ffr_datasets/ffr_cpr_mask_newmap/1036604_60_0416/65669469_CTA/mask_plaque_round60.nii.gz\n",
      "(197, 512, 512)\n",
      "[0. 1.]\n"
     ]
    },
    {
     "data": {
      "application/vnd.jupyter.widget-view+json": {
       "model_id": "f1214b9ebf7b49efb4b0c1ac3b4f204c",
       "version_major": 2,
       "version_minor": 0
      },
      "text/plain": [
       "Viewer(geometries=[], gradient_opacity=0.22, point_set_colors=array([[0.8392157 , 0.        , 0.        ],\n",
       "   …"
      ]
     },
     "metadata": {},
     "output_type": "display_data"
    }
   ],
   "source": [
    "import numpy as np\n",
    "import nibabel as nib\n",
    "import itk\n",
    "from itkwidgets import view\n",
    "import glob\n",
    "import os\n",
    "import SimpleITK as sitk\n",
    "\n",
    "def show_data(path):\n",
    "    print(path)\n",
    "    img = sitk.ReadImage(path)\n",
    "    data = sitk.GetArrayFromImage(img)\n",
    "    print(data.shape)\n",
    "    data = np.unique(data)\n",
    "    print(data)\n",
    "    \n",
    "os.environ[\"CUDA_VISIBLE_DEVICES\"] = \"1\"\n",
    "series_name = '1036604_60_0416/65669469'#1036604/65669469 6566EAC0 1036602/EE59F1EA 1073309/AB512F17\n",
    "vessel_name = glob.glob(os.path.join('/mnt/DrwiseData/drwise_runtime_env/data1/inputdata/', series_name.split('/')[0]+'', '*', series_name.split('/')[1]+'_CTA', 'mask_source/mask_vessel.nii.gz'))\n",
    "vessel_plaque_nii = nib.load(vessel_name[0])\n",
    "vessel_remove_plaque_nii = nib.load('/mnt/users/ffr_datasets/ffr_cpr_mask_newmap/'+series_name.split('/')[0]+'/'+series_name.split('/')[1]+'_CTA/mask_vessel-plaque_round60.nii.gz')\n",
    "direct_plaque_nii = nib.load('/mnt/users/ffr_datasets/ffr_cpr_mask_newmap/'+series_name.split('/')[0]+'/'+series_name.split('/')[1]+'_CTA/mask_plaque_round60.nii.gz')\n",
    "mask_pipeline_vessel_plaque_nii = nib.load('/mnt/public/zhangyongming/ffr_cpr_mask_newmap_dealt/'+series_name.split('/')[0]+'/'+series_name.split('/')[1]+'_CTA/mask_pipeline_vessel_plaque_gaussian.nii.gz')\n",
    "show_data('/mnt/users/ffr_datasets/ffr_cpr_mask_newmap/'+series_name.split('/')[0]+'/'+series_name.split('/')[1]+'_CTA/mask_plaque_round60.nii.gz')\n",
    "vessel_plaque = vessel_plaque_nii.get_fdata()\n",
    "vessel_remove_plaque = vessel_remove_plaque_nii.get_fdata()\n",
    "direct_plaque = direct_plaque_nii.get_fdata()\n",
    "mask_pipeline_vessel_plaque = mask_pipeline_vessel_plaque_nii.get_fdata()\n",
    "pts0 = np.stack(np.where(vessel_plaque>0), axis=1)\n",
    "pts1 = np.stack(np.where(vessel_remove_plaque>0), axis=1)\n",
    "pts2_int = np.stack(np.where(direct_plaque>0), axis=1)\n",
    "pts3_v = np.stack(np.where(mask_pipeline_vessel_plaque==1), axis=1)\n",
    "pts3_p = np.stack(np.where(mask_pipeline_vessel_plaque==2), axis=1)\n",
    "view(point_sets=[pts0, pts1, pts2_int, pts3_v, pts3_p])"
   ]
  },
  {
   "cell_type": "code",
   "execution_count": null,
   "metadata": {},
   "outputs": [],
   "source": []
  }
 ],
 "metadata": {
  "kernelspec": {
   "display_name": "Python 3",
   "language": "python",
   "name": "python3"
  },
  "language_info": {
   "codemirror_mode": {
    "name": "ipython",
    "version": 3
   },
   "file_extension": ".py",
   "mimetype": "text/x-python",
   "name": "python",
   "nbconvert_exporter": "python",
   "pygments_lexer": "ipython3",
   "version": "3.7.7"
  }
 },
 "nbformat": 4,
 "nbformat_minor": 4
}

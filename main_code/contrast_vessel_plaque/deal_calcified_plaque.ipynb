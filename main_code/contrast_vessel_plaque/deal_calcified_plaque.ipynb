{
 "cells": [
  {
   "cell_type": "code",
   "execution_count": 66,
   "id": "b678eca8-64b8-4d24-9829-f0e83192a011",
   "metadata": {},
   "outputs": [
    {
     "name": "stdout",
     "output_type": "stream",
     "text": [
      "['coro001', 'coro003', 'coro041', 'coro043', 'coro043', 'coro001', 'coro003', 'coro041', 'coro043', 'coro001', 'coro001', 'coro002', 'coro002', 'coro003', 'coro003', 'coro041', 'coro041', 'coro043', 'coro043', 'coro001', 'coro003', 'coro041', 'coro043', 'coro022', 'coro024', 'coro032', 'coro033', 'coro034', 'coro022', 'coro032', 'coro033', 'coro034', 'coro032', 'coro033', 'coro003']\n",
      "[[494, 557], [497, 575], [498, 573], [495, 561], [495, 561], [448, 482], [450, 482], [450, 482], [447, 482], [296, 393], [296, 393], [296, 344], [296, 344], [296, 395], [296, 395], [293, 393], [293, 393], [296, 393], [296, 393], [421, 443], [421, 443], [421, 443], [421, 444], [417, 494], [418, 495], [418, 495], [417, 495], [416, 495], [719, 747], [719, 748], [721, 748], [719, 752], [1182, 1206], [1163, 1187], [649, 666]]\n",
      "(512, 512, 275)\n",
      "{1: 1, 2: 2, 3: 6, 4: 11, 5: 5287, 6: 1, 7: 4, 8: 1, 9: 12, 10: 13, 11: 9, 12: 1, 13: 1, 14: 1, 15: 1, 16: 1, 17: 1, 18: 1, 19: 1, 20: 1, 21: 1, 22: 5, 23: 2, 24: 11, 25: 1, 26: 3, 27: 338, 28: 1, 29: 923, 30: 45, 31: 1, 32: 1, 33: 39, 34: 1, 35: 28, 36: 1, 37: 2, 38: 2, 39: 1, 40: 2, 41: 2, 42: 4, 43: 1112, 44: 4, 45: 17, 46: 6, 47: 1, 48: 10, 49: 1, 50: 1, 51: 1, 52: 1, 53: 1, 54: 3, 55: 2461, 56: 1, 57: 1, 58: 10, 59: 1, 60: 20, 61: 1, 62: 1, 63: 1, 64: 1, 65: 1, 66: 1, 67: 16, 68: 1, 69: 1, 70: 1, 71: 1, 72: 1, 73: 1, 74: 1, 75: 1, 76: 1, 77: 1, 78: 69, 79: 1, 80: 1, 81: 1, 82: 2, 83: 1, 84: 1, 85: 2, 86: 1, 87: 1, 88: 1, 89: 37}\n",
      "[5, 27, 29, 43, 55]\n"
     ]
    }
   ],
   "source": [
    "import json\n",
    "import os\n",
    "import glob \n",
    "import cv2\n",
    "from mitok.image.cv_gpu import label, pairwise_distances\n",
    "import numpy as np\n",
    "import struct\n",
    "import SimpleITK as sitk\n",
    "import torch\n",
    "from mitok.utils.mdicom import SERIES\n",
    "import matplotlib.pyplot as plt\n",
    "import nibabel as nib\n",
    "\n",
    "def read_centerline(cpr_centerline_paths):\n",
    "    with open(cpr_centerline_paths, mode='r') as f:\n",
    "        centerline = json.load(f)\n",
    "    return centerline\n",
    "\n",
    "patient = '1022838'\n",
    "series = 'B4776FB3_CTA'\n",
    "vessel_centerline_path = '/mnt/DrwiseDataNFS/drwise_runtime_env/data1/inputdata'\n",
    "plaque_centerline_file = '/mnt/users/code/test/cerebral_1022838_1.json'\n",
    "plaque_mask_path = '/mnt/users/ffr_79datasets/ffr_cpr_mask_newmap'\n",
    "\n",
    "all_vessel_id = []\n",
    "all_centerline_range = []\n",
    "with open(plaque_centerline_file, 'r') as f:\n",
    "    datas = json.load(f)\n",
    "    plaque_datas = datas[\"plaque\"]\n",
    "    for plaque_data in plaque_datas:\n",
    "        plaque_type = plaque_data['plaque_type']\n",
    "        if plaque_type == \"calcified\":\n",
    "            merged_centerline_range = plaque_data['merged_centerline_range']\n",
    "            all_centerline_range.append(merged_centerline_range)\n",
    "            vessel_id = plaque_data['vessel_id']\n",
    "            all_vessel_id.append(vessel_id)\n",
    "print(all_vessel_id)\n",
    "print(all_centerline_range)\n",
    "\n",
    "cpr_plaque_mask_path = glob.glob(os.path.join(plaque_mask_path, patient, series, 'mask_plaque_round60.nii.gz'))[0]\n",
    "vessel_mask_path = glob.glob(os.path.join(vessel_centerline_path, patient, '*', series, 'mask_source', 'mask_vessel.nii.gz'))[0]\n",
    "plaque_data = nib.load(cpr_plaque_mask_path)\n",
    "plaque_data = plaque_data.get_fdata()\n",
    "print(plaque_data.shape)\n",
    "plaque_region_data, plaque_label_area = label(plaque_data, 0, to_numpy=True, connectivity=1)\n",
    "plaque_label_area = dict(map(lambda x: (x.label, x.area), plaque_label_area))\n",
    "print(plaque_label_area)\n",
    "\n",
    "#对中心线2D坐标转成3D坐标\n",
    "axis_centerline_path = glob.glob(os.path.join(vessel_centerline_path, patient, '*', series, 'centerline'))[0]\n",
    "    \n",
    "# plaque_calcified = [] \n",
    "# for plaque_num, plaque_volume in plaque_label_area.items():\n",
    "#     if plaque_volume < 100:\n",
    "#         continue\n",
    "#     print(plaque_num,plaque_volume)\n",
    "#     for i in range(len(all_vessel_id)):\n",
    "#         coro_id = all_vessel_id[i]\n",
    "#         print('coro_id', coro_id)\n",
    "\n",
    "#         axis_centerline_paths = os.path.join(axis_centerline_path, coro_id+'.3d')\n",
    "#         all_axis_centerlines = read_centerline(axis_centerline_paths)\n",
    "#         axis_centerlines = []\n",
    "#         for k in range(all_centerline_range[i][0], all_centerline_range[i][1]):\n",
    "#             axis_centerlines.append(all_axis_centerlines['points'][k])\n",
    "\n",
    "#         plaque_index = np.argwhere(plaque_region_data==plaque_num)\n",
    "#         #print('plaque_index', plaque_index)\n",
    "#         #print('axis_centerlines', axis_centerlines)\n",
    "#         distance = pairwise_distances(plaque_index, device=torch.device(\"cuda\"), y=axis_centerlines)\n",
    "#         #print(distance)\n",
    "#         if np.min(distance) < 5:\n",
    "#             if plaque_num not in plaque_calcified:\n",
    "#                 plaque_calcified.append(plaque_num)\n",
    "#                 break\n",
    "\n",
    "plaque_calcified = [5, 27, 29, 43, 55]\n",
    "print(plaque_calcified)"
   ]
  },
  {
   "cell_type": "code",
   "execution_count": 67,
   "id": "6b69d4f4-051e-4766-838d-b99f6094a096",
   "metadata": {},
   "outputs": [
    {
     "name": "stdout",
     "output_type": "stream",
     "text": [
      "(275, 512, 512)\n",
      "{1: 1, 2: 2, 3: 6, 4: 11, 5: 5287, 6: 1, 7: 4, 8: 1, 9: 12, 10: 13, 11: 9, 12: 1, 13: 1, 14: 1, 15: 1, 16: 1, 17: 1, 18: 1, 19: 1, 20: 1, 21: 1, 22: 5, 23: 2, 24: 11, 25: 1, 26: 3, 27: 338, 28: 1, 29: 923, 30: 45, 31: 1, 32: 1, 33: 39, 34: 1, 35: 28, 36: 1, 37: 2, 38: 2, 39: 1, 40: 2, 41: 2, 42: 4, 43: 1112, 44: 4, 45: 17, 46: 6, 47: 1, 48: 10, 49: 1, 50: 1, 51: 1, 52: 1, 53: 1, 54: 3, 55: 2461, 56: 1, 57: 1, 58: 10, 59: 1, 60: 20, 61: 1, 62: 1, 63: 1, 64: 1, 65: 1, 66: 1, 67: 16, 68: 1, 69: 1, 70: 1, 71: 1, 72: 1, 73: 1, 74: 1, 75: 1, 76: 1, 77: 1, 78: 69, 79: 1, 80: 1, 81: 1, 82: 2, 83: 1, 84: 1, 85: 2, 86: 1, 87: 1, 88: 1, 89: 37}\n",
      "[ -2  37  61 ... 122  51  27]\n"
     ]
    },
    {
     "data": {
      "image/png": "[encoded data removed]",
      "text/plain": [
       "<Figure size 432x288 with 1 Axes>"
      ]
     },
     "metadata": {
      "needs_background": "light"
     },
     "output_type": "display_data"
    },
    {
     "name": "stdout",
     "output_type": "stream",
     "text": [
      "[ -40  -37   12    9   69   97   72  138  157  226  -61  -29   -1   69\n",
      "   45  106   96  154  146  190  173  195  113  -80    2  -57  -12   37\n",
      "   30  -29   38   93   97   -7   70  130   92  141  103  147  130   92\n",
      "  144  110  138   86   69   -1   39  -24  -40  -53  -24  -10  -11  -10\n",
      "  -34  -58  -20   22   39   32   26  -10   38   84  102   89   63   34\n",
      "  102  154  171  142   90   11   62  142  199  210  192  102   64  154\n",
      "  194  223  183   90   58  130  169  177  134  123  112   79   54   14\n",
      "   35    6  -33  -25  -89  -63  -32   -6  -17  -38  -79  -41    9   48\n",
      "   66   55   22  -33  -30   30  100  151  152  129   71   26  115  210\n",
      "  266  255  194  114   26  -32   62  188  312  371  339  250  132   74\n",
      "  216  359  416  376  260  127  -33   69  197  313  372  320  210  221\n",
      "  257  215  133  103   50   13  -27 -115  -95  -60  -23  -11  -83  -45\n",
      "   10   62   71   58  -36   42  116  174  174  135   57  -38   36  138\n",
      "  238  290  277  198  103   12  119  248  355  388  336  235  112   36\n",
      "  178  338  438  441  359  230  107   45  202  369  458  435  331  197\n",
      "  312  390  361  262  211  262  244  172   78   69  -86  -49  -77  -36\n",
      "   14   59   67  -28   44  124  169  174  107  -47   29  133  238  281\n",
      "  257  168   62   -9   84  209  317  353  306  192   69  -53   21  132\n",
      "  274  375  377  305  174  293  364  349  258  149  258  311  279  198\n",
      "  185  217  190  123   96  101   54  -59  -72  -24   19  -29   36   98\n",
      "  131   22  110  186  233  201  -23   62  171  260  295  241  -60   -2\n",
      "   92  207  285  300  228  211  257  247  179   94  162  203  173  117\n",
      "  112  132  105   52   45  -12   19   39   92  100   89  154  181  134\n",
      "  213  232  157  224  225  135  181  172  121   88  118  108   55   52\n",
      "   90  134]\n"
     ]
    },
    {
     "data": {
      "image/png": "[encoded data removed]",
      "text/plain": [
       "<Figure size 432x288 with 1 Axes>"
      ]
     },
     "metadata": {
      "needs_background": "light"
     },
     "output_type": "display_data"
    },
    {
     "name": "stdout",
     "output_type": "stream",
     "text": [
      "[ -9 -29 101  70  40  11 -11 211 179 139  96  52  13 318 308 300 263 208\n",
      " 148  90  44   4 365 371 377 366 330 271 207 138  77  26 365 364 397 421\n",
      " 435 429 406 358 277 184 105  46 381 361 354 369 409 443 477 491 471 408\n",
      " 307 195 111 372 357 352 361 389 429 466 490 503 465 381 275 179 331 353\n",
      " 369 398 432 461 475 459 394 324 240 365 382 400 419 431 425 384 344 394\n",
      " 397 394 367 338 -27  84  46  23   6 -18 233 205 170 137 105  68  33 356\n",
      " 344 325 297 253 194 136  86  46  10 428 445 460 465 441 391 315 230 153\n",
      "  89  39   1 434 467 515 564 587 570 521 438 332 221 133  66  21 408 412\n",
      " 432 495 583 661 692 684 632 533 402 274 169  88  37 404 400 411 459 547\n",
      " 647 728 757 747 682 573 433 293 176  94 390 420 478 563 655 725 749 733\n",
      " 657 545 405 272 171 405 457 532 608 656 675 640 565 461 332 241 425 484\n",
      " 541 568 565 533 459 373 297 412 461 479 478 452 408 377 420   2  82  51\n",
      "  36  23  17   8 264 216 186 161 144 122  93  21 407 381 378 362 339 290\n",
      " 225 155  97  48   9 452 477 508 544 563 566 515 427 320 221 139  75  24\n",
      " -13 419 440 476 535 618 693 728 710 635 523 404 282 181 103  53  17 417\n",
      " 452 511 603 705 789 845 813 731 611 481 346 239 152  86  39 394 419 467\n",
      " 549 663 786 877 910 868 786 667 532 393 272 172 100 377 412 471 552 662\n",
      " 783 874 902 873 791 666 533 394 268 172  91 368 426 515 628 729 806 821\n",
      " 788 702 597 476 341 238 155 477 574 652 698 688 645 582 484 380 291 223\n",
      " 526 576 587 559 498 430 381 495 480  15 -22  49  -2 -22 183 119  68  55\n",
      "  50  46 298 242 199 179 165 152 128  92  55 381 360 359 339 315 247 183\n",
      " 120  65 438 488 508 535 538 492 406 306 211 126  64  11 -26 418 440 474\n",
      " 526 600 666 701 665 580 458 329 217 126  64  13 -21 410 455 543 627 717\n",
      " 782 775 730 621 486 345 225 144  80  35   6 -12 -33 375 424 508 612 708\n",
      " 777 822 808 748 637 493 348 240 160 105  66  37   0 374 441 520 598 664\n",
      " 730 788 792 731 609 465 342 248 181 131  87  38  -2 345 395 444 513 590\n",
      " 674 718 708 635 528 414 324 247 189 140 260 287 336 424 526 598 617 578\n",
      " 496 414 351 291 198 478 475 445 385 359 339  26  11 114  78  52  26  19\n",
      " 155 109  72  45  39  36 215 167 121  95  89  80 260 219 195 187 174 150\n",
      " 115 437 387 361 349 342 311 261 193 130 458 474 489 508 512 521 517 471\n",
      " 386 285 189 106 458 504 549 615 662 668 621 510 367 242 136  62  16 425\n",
      " 484 566 663 735 754 703 578 425 290 173  89  33 427 521 627 726 746 691\n",
      " 586 446 324 223 136  66  24 357 432 526 605 627 600 525 429 348 266 182\n",
      " 106  62  33 325 387 443 455 449 422 389 342 280 215 144 100  73 266 282\n",
      " 309 308 293 262 207 154 124 179 162 138 107  90  66  53 134 109  97  77\n",
      "  61 168 130 112  99  89 274 218 167 135 128 290 244 212 196 183 412 353\n",
      " 334 315 259 192 444 481 497 524 533 518 460 363 447 485 547 619 670 649\n",
      " 574 447 287 161 398 465 547 650 725 713 646 485 288 141  38 393 483 583\n",
      " 679 690 600 457 265 109  14 -33 386 462 530 542 483 365 219  89   9 -34\n",
      " 320 343 351 321 253 175  84  18 -23 -46 189  73 -19  91  83  72 151 127\n",
      " 112  88  72  47 196 160 136 115  81  53 242 192 156 129  98 289 236 185\n",
      " 151 431 434 427 412 453 469 492 526 559 536 466 367 479 532 597 657 658\n",
      " 569 436 278 431 505 588 669 681 591 452 264 106 350 420 498 554 581 515\n",
      " 380 212  63 371 400 402 348 258 138 248 250 227 192 137  75 119 101  83\n",
      " 184 155 130 105  71 223 188 153 119  85 260 218 180 454 459 455 430 403\n",
      " 471 504 534 574 552 475 355 239 438 502 577 644 644 561 417 265 136 363\n",
      " 427 516 593 613 541 401 243 106 315 387 445 452 404 302 173 247 272 270\n",
      " 240 177 113  78 104 176 154 122  91 222 192 151 110 260 222 171 124 262\n",
      " 448 461 475 450 391 435 475 511 516 441 325 203 387 443 490 500 444 328\n",
      " 199  98 294 340 382 413 371 286 161  71 220 246 259 234 185 104 136 120\n",
      " 397 406 361 266 360 388 394 360 259 151 326 341 302 221 124  52 236 249\n",
      " 222 285 221 189 114]\n"
     ]
    },
    {
     "data": {
      "image/png": "[encoded data removed]",
      "text/plain": [
       "<Figure size 432x288 with 1 Axes>"
      ]
     },
     "metadata": {
      "needs_background": "light"
     },
     "output_type": "display_data"
    },
    {
     "name": "stdout",
     "output_type": "stream",
     "text": [
      "[263 176 104 ...  -6  32   4]\n"
     ]
    },
    {
     "data": {
      "image/png": "[encoded data removed]",
      "text/plain": [
       "<Figure size 432x288 with 1 Axes>"
      ]
     },
     "metadata": {
      "needs_background": "light"
     },
     "output_type": "display_data"
    },
    {
     "name": "stdout",
     "output_type": "stream",
     "text": [
      "[ 97 131 117 ...  43 -48 -25]\n"
     ]
    },
    {
     "data": {
      "image/png": "[encoded data removed]",
      "text/plain": [
       "<Figure size 432x288 with 1 Axes>"
      ]
     },
     "metadata": {
      "needs_background": "light"
     },
     "output_type": "display_data"
    },
    {
     "name": "stdout",
     "output_type": "stream",
     "text": [
      "[0. 2. 3.]\n"
     ]
    }
   ],
   "source": [
    "# 参数依次为list,抬头,X轴标签,Y轴标签,XY轴的范围\n",
    "def draw_hist(myList,Title,Xlabel,Ylabel,Xmin,Xmax,Ymin,Ymax):\n",
    "    #plt.hist(myList,100)\n",
    "    bins = range(Xmin, Xmax+1, 10)\n",
    "    n, bins, patches = plt.hist(x=myList, bins=bins, color='#0504aa', alpha=0.7, rwidth=0.85)\n",
    "    plt.xlabel(Xlabel)\n",
    "    #plt.xlim(Xmin,Xmax)\n",
    "    plt.ylabel(Ylabel)\n",
    "    #plt.ylim(Ymin,Ymax)\n",
    "    plt.title(Title)\n",
    "    plt.show()\n",
    "\n",
    "def save_nii(plaque, data, vessel_data, nii_name):\n",
    "    data[np.logical_and(data<=300, data!=0)] = 2\n",
    "    data[data>300] = 3\n",
    "    print(np.unique(data))\n",
    "    vessel_data[data==2] = 2\n",
    "    vessel_data[data==3] = 3\n",
    "    affine_arr = np.eye(4)\n",
    "    vessel_data = vessel_data.astype('float32')\n",
    "    vessel_data = np.transpose(vessel_data, (2, 1, 0))\n",
    "    plaque_nii = nib.Nifti1Image(vessel_data, affine_arr)\n",
    "    nib.save(plaque_nii, os.path.join(plaque, nii_name)) \n",
    "\n",
    "plaque_data = np.transpose(plaque_data, (2,1,0))\n",
    "print(plaque_data.shape)\n",
    "plaque_region_data, plaque_label_area = label(plaque_data, 0, to_numpy=True, connectivity=1)\n",
    "plaque_label_area = dict(map(lambda x: (x.label, x.area), plaque_label_area))\n",
    "print(plaque_label_area)\n",
    "dcm_folder = glob.glob(os.path.join(vessel_centerline_path, patient, '*', series.split('_CTA')[0]))[0]\n",
    "series = SERIES(series_path=dcm_folder, strict_check_series=True)\n",
    "img_tensor_int16 = series.get_image_tensor_int16()\n",
    "vessel_data = nib.load(vessel_mask_path)\n",
    "vessel_data = vessel_data.get_fdata()\n",
    "vessel_data = np.transpose(vessel_data, (2, 1, 0))\n",
    "data = np.zeros(vessel_data.shape)\n",
    "for plaque_num, plaque_volume in plaque_label_area.items():\n",
    "    if plaque_num in plaque_calcified:\n",
    "        data_pixel = img_tensor_int16[plaque_region_data==plaque_num]\n",
    "        print(data_pixel)\n",
    "        min_value = min(data_pixel)\n",
    "        max_value = max(data_pixel)\n",
    "        draw_hist(data_pixel,'Hist','Pixel','Numbers',min_value-10,max_value+10,0,10)   # 直方图展示    \n",
    "        data[plaque_region_data==plaque_num] = img_tensor_int16[plaque_region_data==plaque_num]\n",
    "save_nii('/mnt/users', data, vessel_data, 'mask_plaque_brightness.nii.gz')"
   ]
  },
  {
   "cell_type": "code",
   "execution_count": null,
   "id": "f06a7147-233d-4a8c-89aa-1039eec576f9",
   "metadata": {},
   "outputs": [],
   "source": [
    "import json\n",
    "import os\n",
    "import glob \n",
    "import cv2\n",
    "from mitok.image.cv_gpu import label, pairwise_distances\n",
    "import numpy as np\n",
    "import struct\n",
    "import SimpleITK as sitk\n",
    "import torch\n",
    "from mitok.utils.mdicom import SERIES\n",
    "import matplotlib.pyplot as plt\n",
    "import nibabel as nib\n",
    "\n",
    "patient = '1022837'\n",
    "series = '62D38FAD_CTA'\n",
    "vessel_centerline_path = '/mnt/DrwiseDataNFS/drwise_runtime_env/data1/inputdata'\n",
    "plaque_centerline_file = '/mnt/users/code/test/cerebral_1022837_1.json'\n",
    "plaque_mask_path = '/mnt/DrwiseDataNFS/drwise_runtime_env/data1/inputdata'\n",
    "\n",
    "# 参数依次为list,抬头,X轴标签,Y轴标签,XY轴的范围\n",
    "def draw_hist(myList,Title,Xlabel,Ylabel,Xmin,Xmax,Ymin,Ymax):\n",
    "    #plt.hist(myList,100)\n",
    "    bins = range(Xmin, Xmax+1, 10)\n",
    "    n, bins, patches = plt.hist(x=myList, bins=bins, color='#0504aa', alpha=0.7, rwidth=0.85)\n",
    "    plt.xlabel(Xlabel)\n",
    "    #plt.xlim(Xmin,Xmax)\n",
    "    plt.ylabel(Ylabel)\n",
    "    #plt.ylim(Ymin,Ymax)\n",
    "    plt.title(Title)\n",
    "    plt.show()\n",
    "\n",
    "cpr_plaque_mask_path = glob.glob(os.path.join(vessel_centerline_path, patient, '*', series, 'mask_source', 'mask_plaque.nii.gz'))[0]\n",
    "plaque_data = nib.load(cpr_plaque_mask_path)\n",
    "plaque_data = plaque_data.get_fdata()\n",
    "print(plaque_data.shape)\n",
    "plaque_data = np.transpose(plaque_data, (2,1,0))\n",
    "plaque_region_data, plaque_label_area = label(plaque_data, 0, to_numpy=True, connectivity=1)\n",
    "plaque_label_area = dict(map(lambda x: (x.label, x.area), plaque_label_area))\n",
    "dcm_folder = glob.glob(os.path.join(plaque_mask_path, patient, '*', series.split('_CTA')[0]))[0]\n",
    "series = SERIES(series_path=dcm_folder, strict_check_series=True)\n",
    "img_tensor_int16 = series.get_image_tensor_int16()\n",
    "for plaque_num, plaque_volume in plaque_label_area.items():\n",
    "    data_pixel = img_tensor_int16[plaque_region_data==plaque_num]\n",
    "    print(data_pixel)\n",
    "    min_value = min(data_pixel)\n",
    "    max_value = max(data_pixel)\n",
    "    draw_hist(data_pixel,'Hist','Pixel','Numbers',min_value-10,max_value+10,0,10)   # 直方图展示"
   ]
  },
  {
   "cell_type": "code",
   "execution_count": null,
   "id": "87a20f50-5eae-4b71-9b98-8175578e0efa",
   "metadata": {},
   "outputs": [],
   "source": []
  }
 ],
 "metadata": {
  "kernelspec": {
   "display_name": "Python 3",
   "language": "python",
   "name": "python3"
  },
  "language_info": {
   "codemirror_mode": {
    "name": "ipython",
    "version": 3
   },
   "file_extension": ".py",
   "mimetype": "text/x-python",
   "name": "python",
   "nbconvert_exporter": "python",
   "pygments_lexer": "ipython3",
   "version": "3.6.13"
  }
 },
 "nbformat": 4,
 "nbformat_minor": 5
}
